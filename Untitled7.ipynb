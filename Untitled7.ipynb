{
  "nbformat": 4,
  "nbformat_minor": 0,
  "metadata": {
    "colab": {
      "provenance": [],
      "authorship_tag": "ABX9TyMjPucXCa8diznnLaOrD8F3",
      "include_colab_link": true
    },
    "kernelspec": {
      "name": "python3",
      "display_name": "Python 3"
    },
    "language_info": {
      "name": "python"
    }
  },
  "cells": [
    {
      "cell_type": "markdown",
      "metadata": {
        "id": "view-in-github",
        "colab_type": "text"
      },
      "source": [
        "<a href=\"https://colab.research.google.com/github/dev-rajk/random_colab/blob/main/Untitled7.ipynb\" target=\"_parent\"><img src=\"https://colab.research.google.com/assets/colab-badge.svg\" alt=\"Open In Colab\"/></a>"
      ]
    },
    {
      "cell_type": "code",
      "execution_count": 1,
      "metadata": {
        "id": "zKjThaAiXtgn"
      },
      "outputs": [],
      "source": [
        "import os\n",
        "import pandas as pd\n",
        "from glob import glob\n"
      ]
    },
    {
      "cell_type": "code",
      "source": [
        "def process_weather_data(directory_path):\n",
        "    # Initialize an empty list to store the cleaned data from each file\n",
        "    all_cleaned_data = []\n",
        "\n",
        "\n",
        "\n",
        "    # Iterate over each CSV file in the directory\n",
        "    for file_path in glob(os.path.join(directory_path, '*.csv')):\n",
        "        # Load the CSV file\n",
        "        df = pd.read_csv(file_path)\n",
        "\n",
        "        # Set 'tempmax', 'tempmin', and 'temp' to null if 'temp' is null are zero\n",
        "        df.loc[df['temp'].isnull(), ['tempmin', 'temp', 'precip', 'tempmax' ]] = None\n",
        "\n",
        "        # Extract 'datetime' and 'temp' columns\n",
        "        cleaned_df = df[['datetime', value]]\n",
        "\n",
        "        # Append the cleaned data to the list\n",
        "        all_cleaned_data.append(cleaned_df)\n",
        "\n",
        "    # Combine all cleaned data into a single DataFrame\n",
        "    combined_data = pd.concat(all_cleaned_data)\n",
        "\n",
        "    # Convert 'datetime' column to datetime type\n",
        "    combined_data['datetime'] = pd.to_datetime(combined_data['datetime'])\n",
        "\n",
        "    # Create a pivot table with 'datetime' as the index and 'temp' as values\n",
        "    pivot_table = combined_data.pivot_table(index=combined_data['datetime'].dt.strftime('%m-%d'),\n",
        "                                            columns=combined_data['datetime'].dt.year,\n",
        "                                            values= value)\n",
        "\n",
        "    return pivot_table\n",
        "\n"
      ],
      "metadata": {
        "id": "Eq0LJQBwYgHA"
      },
      "execution_count": 2,
      "outputs": []
    },
    {
      "cell_type": "code",
      "source": [
        "# Directory containing the CSV files\n",
        "directory_path = '/content/data/'\n",
        "\n",
        "value = 'tempmin'\n",
        "#  'tempmin', 'temp', 'tempmax', 'feelslikemax' ,'feelslikemin','feelslike','dew','humidity','precip','precipprob','precipcover','preciptype','snow','snowdepth','windgust','windspeed','winddir','sealevelpressure','cloudcover','visibility','solarradiation','solarenergy','uvindex','severerisk','sunrise','sunset','moonphase','conditions','description'\n",
        "\n",
        "# Process the data and create the pivot table\n",
        "pivot_table = process_weather_data(directory_path)\n",
        "\n",
        "# Export the pivot table to a CSV file\n",
        "output_file_path = f'bengaluru_weather_{value}_table.csv'\n",
        "pivot_table.to_csv(output_file_path)\n",
        "\n",
        "print(f\"The comparative table has been exported to {output_file_path}\")"
      ],
      "metadata": {
        "colab": {
          "base_uri": "https://localhost:8080/"
        },
        "id": "eEmyQnIEY3h3",
        "outputId": "f4456dd5-0896-42ed-ca02-d748f3624953"
      },
      "execution_count": 5,
      "outputs": [
        {
          "output_type": "stream",
          "name": "stdout",
          "text": [
            "The comparative table has been exported to bengaluru_weather_tempmin_table.csv\n"
          ]
        }
      ]
    },
    {
      "cell_type": "code",
      "source": [],
      "metadata": {
        "id": "QGB-W0ftZDYD"
      },
      "execution_count": null,
      "outputs": []
    }
  ]
}